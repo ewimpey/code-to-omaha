{
 "cells": [
  {
   "cell_type": "code",
   "execution_count": 2,
   "metadata": {},
   "outputs": [],
   "source": [
    "import json\n",
    "\n",
    "def load_bracket(file_path):\n",
    "    with open(file_path, 'r') as file:\n",
    "        return json.load(file)\n",
    "\n",
    "def score_bracket(user_bracket, key_bracket):\n",
    "    score = 0\n",
    "\n",
    "    # Placeholder points system\n",
    "    points = {\n",
    "        \"regionals_winner\": 2,\n",
    "        \"regionals_runner_up\": 1,\n",
    "        \"supers_winner\": 4,\n",
    "        \"cws_winner\": 12,\n",
    "        \"cws_runner_up\": 8,\n",
    "        \"finals_winner\": 16\n",
    "    }\n",
    "\n",
    "    # Score regionals\n",
    "    for regional in key_bracket[\"regionals\"]:\n",
    "        if user_bracket[\"regionals\"][regional][\"winner\"] == key_bracket[\"regionals\"][regional][\"winner\"]:\n",
    "            score += points[\"regionals_winner\"]\n",
    "        if user_bracket[\"regionals\"][regional][\"runner_up\"] == key_bracket[\"regionals\"][regional][\"runner_up\"]:\n",
    "            score += points[\"regionals_runner_up\"]\n",
    "\n",
    "    # Score supers\n",
    "    for super in key_bracket[\"supers\"]:\n",
    "        if user_bracket[\"supers\"][super][\"winner\"] == key_bracket[\"supers\"][super][\"winner\"]:\n",
    "            score += points[\"supers_winner\"]\n",
    "\n",
    "    # Score CWS\n",
    "    for cws in key_bracket[\"cws\"]:\n",
    "        if user_bracket[\"cws\"][cws][\"winner\"] == key_bracket[\"cws\"][cws][\"winner\"]:\n",
    "            score += points[\"cws_winner\"]\n",
    "        if user_bracket[\"cws\"][cws][\"runner_up\"] == key_bracket[\"cws\"][cws][\"runner_up\"]:\n",
    "            score += points[\"cws_runner_up\"]\n",
    "\n",
    "    # Score finals\n",
    "    if user_bracket[\"finals\"][\"winner\"] == key_bracket[\"finals\"][\"winner\"]:\n",
    "        score += points[\"finals_winner\"]\n",
    "\n",
    "    return score\n"
   ]
  },
  {
   "cell_type": "code",
   "execution_count": 65,
   "metadata": {},
   "outputs": [],
   "source": [
    "import os\n",
    "\n",
    "def score_all_brackets(submission_folder, key_bracket_path):\n",
    "    key_bracket = load_bracket(key_bracket_path)\n",
    "    scores = {}\n",
    "\n",
    "    for filename in os.listdir(submission_folder):\n",
    "        if filename.endswith(\"-submission.json\"):\n",
    "            user_bracket_path = os.path.join(submission_folder, filename)\n",
    "            user_bracket = load_bracket(user_bracket_path)\n",
    "            score = score_bracket(user_bracket, key_bracket)\n",
    "            scores[filename] = score\n",
    "\n",
    "    sorted_scores = sorted(scores.items(), key=lambda item: item[1], reverse=True)\n",
    "\n",
    "    return sorted_scores"
   ]
  },
  {
   "cell_type": "code",
   "execution_count": 66,
   "metadata": {},
   "outputs": [
    {
     "data": {
      "text/plain": [
       "[('robert-robison-submission.json', 24),\n",
       " ('shayleelaura-submission.json', 21),\n",
       " ('BrennenFa-submission.json', 20),\n",
       " ('cdmoseley-submission.json', 20),\n",
       " ('dannyta47-submission.json', 18),\n",
       " ('kkeiter-submission.json', 16),\n",
       " ('ewimpey-submission.json', 15),\n",
       " ('mdbrannock-submission.json', 14),\n",
       " ('spellkp-submission.json', 13)]"
      ]
     },
     "execution_count": 66,
     "metadata": {},
     "output_type": "execute_result"
    }
   ],
   "source": [
    "score_all_brackets(submission_folder=\"submission\", key_bracket_path=\"key-bracket.json\")"
   ]
  },
  {
   "cell_type": "code",
   "execution_count": 61,
   "metadata": {},
   "outputs": [
    {
     "data": {
      "text/plain": [
       "{'',\n",
       " 'Clemson',\n",
       " 'Evansville',\n",
       " 'Florida',\n",
       " 'Florida State',\n",
       " 'Georgia',\n",
       " 'Kansas State',\n",
       " 'Kentucky',\n",
       " 'NC State',\n",
       " 'Oregon',\n",
       " 'Oregon State',\n",
       " 'Tennessee',\n",
       " 'Texas A&M',\n",
       " 'UConn',\n",
       " 'UNC',\n",
       " 'Virginia',\n",
       " 'West Virginia'}"
      ]
     },
     "execution_count": 61,
     "metadata": {},
     "output_type": "execute_result"
    }
   ],
   "source": [
    "# Now check whether how many teams are still alive?\n",
    "\n",
    "def get_alive_teams(key_bracket, round_name):\n",
    "    alive_teams = set()\n",
    "    key_bracket = load_bracket(key_bracket)\n",
    "\n",
    "    round_data = key_bracket[round_name]\n",
    "    for match_data in round_data.values():\n",
    "        for team in match_data.values():\n",
    "            if team != \"winner\" and team != \"runner_up\":\n",
    "                alive_teams.add(team)\n",
    "\n",
    "    return alive_teams\n",
    "\n",
    "alive_teams = get_alive_teams(\"key-bracket.json\", \"supers\")\n",
    "\n",
    "alive_teams"
   ]
  },
  {
   "cell_type": "code",
   "execution_count": 62,
   "metadata": {},
   "outputs": [
    {
     "data": {
      "text/plain": [
       "4"
      ]
     },
     "execution_count": 62,
     "metadata": {},
     "output_type": "execute_result"
    }
   ],
   "source": [
    "def count_alive_cws_teams(alive_teams, user_bracket):\n",
    "    alive_count = 0\n",
    "\n",
    "    user_bracket = load_bracket(user_bracket)\n",
    "    \n",
    "    # Check teams in CWS1\n",
    "    for team in set(user_bracket[\"cws\"][\"cws2\"].values()).union(set(user_bracket[\"cws\"][\"cws1\"].values())):\n",
    "        if team in alive_teams:\n",
    "            alive_count += 1\n",
    "    return alive_count\n",
    "\n",
    "count_alive_cws_teams(alive_teams, \"submission/ewimpey-submission.json\")"
   ]
  },
  {
   "cell_type": "code",
   "execution_count": 67,
   "metadata": {},
   "outputs": [],
   "source": [
    "def cws_remaining_all_brackets(submission_folder=\"submission\", alive_teams = alive_teams):\n",
    "\n",
    "    scores = {}\n",
    "    \n",
    "    for filename in os.listdir(submission_folder):\n",
    "        if filename.endswith(\"-submission.json\"):\n",
    "            user_bracket_path = os.path.join(submission_folder, filename)\n",
    "            user_bracket = load_bracket(user_bracket_path)\n",
    "            score = count_alive_cws_teams(alive_teams, user_bracket_path)\n",
    "            scores[filename] = score\n",
    "    \n",
    "    sorted_scores = sorted(scores.items(), key=lambda item: item[1], reverse=True)\n",
    "\n",
    "    return sorted_scores\n"
   ]
  },
  {
   "cell_type": "code",
   "execution_count": 68,
   "metadata": {},
   "outputs": [
    {
     "data": {
      "text/plain": [
       "[('robert-robison-submission.json', 6),\n",
       " ('BrennenFa-submission.json', 4),\n",
       " ('dannyta47-submission.json', 4),\n",
       " ('ewimpey-submission.json', 4),\n",
       " ('spellkp-submission.json', 4),\n",
       " ('cdmoseley-submission.json', 3),\n",
       " ('kkeiter-submission.json', 3),\n",
       " ('mdbrannock-submission.json', 3),\n",
       " ('shayleelaura-submission.json', 3)]"
      ]
     },
     "execution_count": 68,
     "metadata": {},
     "output_type": "execute_result"
    }
   ],
   "source": [
    "cws_remaining_all_brackets()"
   ]
  }
 ],
 "metadata": {
  "kernelspec": {
   "display_name": "hubspot",
   "language": "python",
   "name": "python3"
  },
  "language_info": {
   "codemirror_mode": {
    "name": "ipython",
    "version": 3
   },
   "file_extension": ".py",
   "mimetype": "text/x-python",
   "name": "python",
   "nbconvert_exporter": "python",
   "pygments_lexer": "ipython3",
   "version": "3.10.8"
  }
 },
 "nbformat": 4,
 "nbformat_minor": 2
}
